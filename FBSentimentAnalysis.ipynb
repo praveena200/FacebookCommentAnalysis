{
 "cells": [
  {
   "cell_type": "code",
   "execution_count": 1,
   "id": "1883657e-0b27-46fd-b0fa-3ac417c14a16",
   "metadata": {},
   "outputs": [],
   "source": [
    "import pandas as pd\n",
    "import re\n",
    "import seaborn as sns\n",
    "import matplotlib.pyplot as plt\n",
    "from imblearn.over_sampling import RandomOverSampler\n",
    "from sklearn.model_selection import train_test_split\n",
    "from sklearn.feature_extraction.text import CountVectorizer\n",
    "from sklearn.naive_bayes import MultinomialNB\n",
    "from sklearn.metrics import classification_report, accuracy_score\n"
   ]
  },
  {
   "cell_type": "code",
   "execution_count": 2,
   "id": "ba1ea4bf-0121-499b-9bf0-04e280754efe",
   "metadata": {},
   "outputs": [],
   "source": [
    "FBdata = pd.read_csv('fb_sentiment.csv')"
   ]
  },
  {
   "cell_type": "code",
   "execution_count": 3,
   "id": "f8634e33-3326-42fd-a9c4-1251c895c49b",
   "metadata": {},
   "outputs": [
    {
     "data": {
      "text/html": [
       "<div>\n",
       "<style scoped>\n",
       "    .dataframe tbody tr th:only-of-type {\n",
       "        vertical-align: middle;\n",
       "    }\n",
       "\n",
       "    .dataframe tbody tr th {\n",
       "        vertical-align: top;\n",
       "    }\n",
       "\n",
       "    .dataframe thead th {\n",
       "        text-align: right;\n",
       "    }\n",
       "</style>\n",
       "<table border=\"1\" class=\"dataframe\">\n",
       "  <thead>\n",
       "    <tr style=\"text-align: right;\">\n",
       "      <th></th>\n",
       "      <th>Unnamed: 0</th>\n",
       "      <th>FBPost</th>\n",
       "      <th>Label</th>\n",
       "    </tr>\n",
       "  </thead>\n",
       "  <tbody>\n",
       "    <tr>\n",
       "      <th>0</th>\n",
       "      <td>0</td>\n",
       "      <td>Drug Runners and  a U.S. Senator have somethin...</td>\n",
       "      <td>O</td>\n",
       "    </tr>\n",
       "    <tr>\n",
       "      <th>1</th>\n",
       "      <td>1</td>\n",
       "      <td>Heres a single, to add, to Kindle. Just read t...</td>\n",
       "      <td>O</td>\n",
       "    </tr>\n",
       "    <tr>\n",
       "      <th>2</th>\n",
       "      <td>2</td>\n",
       "      <td>If you tire of Non-Fiction.. Check out http://...</td>\n",
       "      <td>O</td>\n",
       "    </tr>\n",
       "    <tr>\n",
       "      <th>3</th>\n",
       "      <td>3</td>\n",
       "      <td>Ghost of Round Island is supposedly nonfiction.</td>\n",
       "      <td>O</td>\n",
       "    </tr>\n",
       "    <tr>\n",
       "      <th>4</th>\n",
       "      <td>4</td>\n",
       "      <td>Why is Barnes and Nobles version of the Kindle...</td>\n",
       "      <td>N</td>\n",
       "    </tr>\n",
       "    <tr>\n",
       "      <th>...</th>\n",
       "      <td>...</td>\n",
       "      <td>...</td>\n",
       "      <td>...</td>\n",
       "    </tr>\n",
       "    <tr>\n",
       "      <th>995</th>\n",
       "      <td>995</td>\n",
       "      <td>I liked it.  Its youth oriented and I think th...</td>\n",
       "      <td>P</td>\n",
       "    </tr>\n",
       "    <tr>\n",
       "      <th>996</th>\n",
       "      <td>996</td>\n",
       "      <td>I think the point of the commercial is that, e...</td>\n",
       "      <td>P</td>\n",
       "    </tr>\n",
       "    <tr>\n",
       "      <th>997</th>\n",
       "      <td>997</td>\n",
       "      <td>Kindle 3 is such a great product. I could not ...</td>\n",
       "      <td>P</td>\n",
       "    </tr>\n",
       "    <tr>\n",
       "      <th>998</th>\n",
       "      <td>998</td>\n",
       "      <td>develop a way to share books!  that is a big d...</td>\n",
       "      <td>N</td>\n",
       "    </tr>\n",
       "    <tr>\n",
       "      <th>999</th>\n",
       "      <td>999</td>\n",
       "      <td>I love my kindle! =)</td>\n",
       "      <td>P</td>\n",
       "    </tr>\n",
       "  </tbody>\n",
       "</table>\n",
       "<p>1000 rows × 3 columns</p>\n",
       "</div>"
      ],
      "text/plain": [
       "     Unnamed: 0                                             FBPost Label\n",
       "0             0  Drug Runners and  a U.S. Senator have somethin...     O\n",
       "1             1  Heres a single, to add, to Kindle. Just read t...     O\n",
       "2             2  If you tire of Non-Fiction.. Check out http://...     O\n",
       "3             3    Ghost of Round Island is supposedly nonfiction.     O\n",
       "4             4  Why is Barnes and Nobles version of the Kindle...     N\n",
       "..          ...                                                ...   ...\n",
       "995         995  I liked it.  Its youth oriented and I think th...     P\n",
       "996         996  I think the point of the commercial is that, e...     P\n",
       "997         997  Kindle 3 is such a great product. I could not ...     P\n",
       "998         998  develop a way to share books!  that is a big d...     N\n",
       "999         999                               I love my kindle! =)     P\n",
       "\n",
       "[1000 rows x 3 columns]"
      ]
     },
     "execution_count": 3,
     "metadata": {},
     "output_type": "execute_result"
    }
   ],
   "source": [
    "FBdata"
   ]
  },
  {
   "cell_type": "markdown",
   "id": "bc9cceb6-b660-41c2-aeb5-dee1feb33a93",
   "metadata": {},
   "source": [
    "## DATA CLEANING "
   ]
  },
  {
   "cell_type": "code",
   "execution_count": 5,
   "id": "ffb5b788-69bb-4bdd-8ba5-7118a594b8fa",
   "metadata": {},
   "outputs": [],
   "source": [
    "FBdata = FBdata.drop(columns=[\"Unnamed: 0\"])"
   ]
  },
  {
   "cell_type": "code",
   "execution_count": 6,
   "id": "8478a437-a99c-47c9-a1bb-fac6c35a4d7a",
   "metadata": {},
   "outputs": [
    {
     "data": {
      "text/html": [
       "<div>\n",
       "<style scoped>\n",
       "    .dataframe tbody tr th:only-of-type {\n",
       "        vertical-align: middle;\n",
       "    }\n",
       "\n",
       "    .dataframe tbody tr th {\n",
       "        vertical-align: top;\n",
       "    }\n",
       "\n",
       "    .dataframe thead th {\n",
       "        text-align: right;\n",
       "    }\n",
       "</style>\n",
       "<table border=\"1\" class=\"dataframe\">\n",
       "  <thead>\n",
       "    <tr style=\"text-align: right;\">\n",
       "      <th></th>\n",
       "      <th>FBPost</th>\n",
       "      <th>Label</th>\n",
       "    </tr>\n",
       "  </thead>\n",
       "  <tbody>\n",
       "    <tr>\n",
       "      <th>0</th>\n",
       "      <td>Drug Runners and  a U.S. Senator have somethin...</td>\n",
       "      <td>O</td>\n",
       "    </tr>\n",
       "    <tr>\n",
       "      <th>1</th>\n",
       "      <td>Heres a single, to add, to Kindle. Just read t...</td>\n",
       "      <td>O</td>\n",
       "    </tr>\n",
       "    <tr>\n",
       "      <th>2</th>\n",
       "      <td>If you tire of Non-Fiction.. Check out http://...</td>\n",
       "      <td>O</td>\n",
       "    </tr>\n",
       "    <tr>\n",
       "      <th>3</th>\n",
       "      <td>Ghost of Round Island is supposedly nonfiction.</td>\n",
       "      <td>O</td>\n",
       "    </tr>\n",
       "    <tr>\n",
       "      <th>4</th>\n",
       "      <td>Why is Barnes and Nobles version of the Kindle...</td>\n",
       "      <td>N</td>\n",
       "    </tr>\n",
       "    <tr>\n",
       "      <th>...</th>\n",
       "      <td>...</td>\n",
       "      <td>...</td>\n",
       "    </tr>\n",
       "    <tr>\n",
       "      <th>995</th>\n",
       "      <td>I liked it.  Its youth oriented and I think th...</td>\n",
       "      <td>P</td>\n",
       "    </tr>\n",
       "    <tr>\n",
       "      <th>996</th>\n",
       "      <td>I think the point of the commercial is that, e...</td>\n",
       "      <td>P</td>\n",
       "    </tr>\n",
       "    <tr>\n",
       "      <th>997</th>\n",
       "      <td>Kindle 3 is such a great product. I could not ...</td>\n",
       "      <td>P</td>\n",
       "    </tr>\n",
       "    <tr>\n",
       "      <th>998</th>\n",
       "      <td>develop a way to share books!  that is a big d...</td>\n",
       "      <td>N</td>\n",
       "    </tr>\n",
       "    <tr>\n",
       "      <th>999</th>\n",
       "      <td>I love my kindle! =)</td>\n",
       "      <td>P</td>\n",
       "    </tr>\n",
       "  </tbody>\n",
       "</table>\n",
       "<p>1000 rows × 2 columns</p>\n",
       "</div>"
      ],
      "text/plain": [
       "                                                FBPost Label\n",
       "0    Drug Runners and  a U.S. Senator have somethin...     O\n",
       "1    Heres a single, to add, to Kindle. Just read t...     O\n",
       "2    If you tire of Non-Fiction.. Check out http://...     O\n",
       "3      Ghost of Round Island is supposedly nonfiction.     O\n",
       "4    Why is Barnes and Nobles version of the Kindle...     N\n",
       "..                                                 ...   ...\n",
       "995  I liked it.  Its youth oriented and I think th...     P\n",
       "996  I think the point of the commercial is that, e...     P\n",
       "997  Kindle 3 is such a great product. I could not ...     P\n",
       "998  develop a way to share books!  that is a big d...     N\n",
       "999                               I love my kindle! =)     P\n",
       "\n",
       "[1000 rows x 2 columns]"
      ]
     },
     "execution_count": 6,
     "metadata": {},
     "output_type": "execute_result"
    }
   ],
   "source": [
    "FBdata"
   ]
  },
  {
   "cell_type": "markdown",
   "id": "2b299c83-b74e-46b6-84f8-af2453677aec",
   "metadata": {},
   "source": [
    "## DATA PRE-PROCESSING"
   ]
  },
  {
   "cell_type": "code",
   "execution_count": 8,
   "id": "f1e5fc37-9ca4-4976-b182-c1eadfd41b21",
   "metadata": {},
   "outputs": [],
   "source": [
    "#defined a function clean_text which will remove hastags,mentions,urls,punctuation and convert to lowercase\n",
    "def text_cleaning(clean_text):\n",
    "    clean_text = re.sub(r'http\\S+','',clean_text) #remove URLs\n",
    "    clean_text = re.sub(r'@\\w+','',clean_text)#remove mentions\n",
    "    clean_text = re.sub(r'#\\w+','',clean_text)#remove hastags\n",
    "    clean_text = re.sub(r'[^\\w\\s]','',clean_text)#remove punctuation\n",
    "    clean_text = clean_text.lower()\n",
    "\n",
    "FBdata['cleaned_text'] = FBdata['FBPost'].apply(text_cleaning)\n",
    "FBdata['cleaned_text'] = FBdata['FBPost'].fillna(\"\")"
   ]
  },
  {
   "cell_type": "markdown",
   "id": "f13ffd89-c577-400f-bcc0-36843bae3fc6",
   "metadata": {},
   "source": [
    "## EXPLORATORY DATA ANALYSIS"
   ]
  },
  {
   "cell_type": "code",
   "execution_count": 10,
   "id": "b683ee6c-c299-4bf7-9fc8-bd5a62bcccca",
   "metadata": {},
   "outputs": [
    {
     "data": {
      "image/png": "[encoded data removed]",
      "text/plain": [
       "<Figure size 640x480 with 1 Axes>"
      ]
     },
     "metadata": {},
     "output_type": "display_data"
    }
   ],
   "source": [
    "sns.countplot(FBdata['Label'])\n",
    "plt.title('SENTIMENT LABEL DISTRIBUTION')\n",
    "plt.show()"
   ]
  },
  {
   "cell_type": "markdown",
   "id": "d600ad81-3eea-4200-9263-7601c099bbda",
   "metadata": {},
   "source": [
    "From the above graph we can conclude that the postive comments are higher than negative and neutral comments this leds to imbalance and can cause bias in the results while training and testing the model. Thus we need to oversample the model by importing RandomOverSampler"
   ]
  },
  {
   "cell_type": "code",
   "execution_count": 12,
   "id": "ab286495-f6c9-4fa1-aec7-0f1e2c5710c9",
   "metadata": {},
   "outputs": [
    {
     "name": "stdout",
     "output_type": "stream",
     "text": [
      "classification report:\n",
      "               precision    recall  f1-score   support\n",
      "\n",
      "           N       0.91      0.94      0.93       139\n",
      "           O       0.83      0.77      0.80       121\n",
      "           P       0.85      0.88      0.87       125\n",
      "\n",
      "    accuracy                           0.87       385\n",
      "   macro avg       0.86      0.86      0.86       385\n",
      "weighted avg       0.87      0.87      0.87       385\n",
      "\n",
      "accuracy: 0.8675324675324675\n"
     ]
    }
   ],
   "source": [
    "#extracting features\n",
    "vectorizer = CountVectorizer()\n",
    "X = vectorizer.fit_transform(FBdata['cleaned_text'])\n",
    "y = FBdata['Label']\n",
    "\n",
    "#oversample the minority class\n",
    "oversampler = RandomOverSampler(random_state=42)\n",
    "X_resampled,y_resampled = oversampler.fit_resample(X,y)\n",
    "\n",
    "#split the resampled dataset\n",
    "X_train,X_test,y_train,y_test = train_test_split(X_resampled,y_resampled,test_size=0.2,random_state=42)\n",
    "\n",
    "\n",
    "#Train a naive bayes model\n",
    "NBmodel = MultinomialNB()\n",
    "NBmodel.fit(X_train,y_train)\n",
    "\n",
    "#predict and evalute\n",
    "y_pred = NBmodel.predict(X_test)\n",
    "\n",
    "#print evaluation metric\n",
    "print(\"classification report:\\n\", classification_report(y_test,y_pred))\n",
    "print(\"accuracy:\",accuracy_score(y_test,y_pred))"
   ]
  },
  {
   "cell_type": "markdown",
   "id": "1a74d25c-1bce-4730-9ad3-2c7ce12d5f81",
   "metadata": {},
   "source": [
    "## Testing the model by giving few inputs"
   ]
  },
  {
   "cell_type": "code",
   "execution_count": 14,
   "id": "0688ff64-eb90-4d72-b94a-cac7dfc6504b",
   "metadata": {},
   "outputs": [],
   "source": [
    "def predict_sentiment(comment,vectorizer,model):\n",
    "    comment_vectorized = vectorizer.transform([comment])\n",
    "    predicted_label = NBmodel.predict(comment_vectorized)[0]\n",
    "    return predicted_label"
   ]
  },
  {
   "cell_type": "code",
   "execution_count": 16,
   "id": "7e65bc1e-8190-4f87-ac22-12ae21de0fbd",
   "metadata": {},
   "outputs": [
    {
     "name": "stdout",
     "output_type": "stream",
     "text": [
      "Comment: I am so happy! it's great\n",
      "Predicted Sentiment: P\n",
      "\n",
      "Comment: iT'S THE WORST. wON'T RECOMMEND\n",
      "Predicted Sentiment: O\n",
      "\n",
      "Comment: it's alright!\n",
      "Predicted Sentiment: P\n",
      "\n"
     ]
    }
   ],
   "source": [
    "input_comments = [\"I am so happy! it's great\",\n",
    "                 \"iT'S THE WORST. wON'T RECOMMEND\",\n",
    "                 \"it's alright!\"]\n",
    "\n",
    "predicted_sentiments = [predict_sentiment(comment,vectorizer,NBmodel) for comment in input_comments ]\n",
    "\n",
    "for comment,sentiment in zip(input_comments,predicted_sentiments):\n",
    "    print(f\"Comment: {comment}\\nPredicted Sentiment: {sentiment}\\n\")"
   ]
  },
  {
   "cell_type": "code",
   "execution_count": null,
   "id": "12f16fa0-c75b-45ed-8f47-b4be4db52e7a",
   "metadata": {},
   "outputs": [],
   "source": []
  }
 ],
 "metadata": {
  "kernelspec": {
   "display_name": "Python 3 (ipykernel)",
   "language": "python",
   "name": "python3"
  },
  "language_info": {
   "codemirror_mode": {
    "name": "ipython",
    "version": 3
   },
   "file_extension": ".py",
   "mimetype": "text/x-python",
   "name": "python",
   "nbconvert_exporter": "python",
   "pygments_lexer": "ipython3",
   "version": "3.12.7"
  }
 },
 "nbformat": 4,
 "nbformat_minor": 5
}
